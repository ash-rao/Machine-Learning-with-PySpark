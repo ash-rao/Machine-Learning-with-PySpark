{
 "cells": [
  {
   "cell_type": "markdown",
   "metadata": {},
   "source": [
    "Loan Prediction using decision trees from Spark's mllib library. \n",
    "Datasets for training and test from [here](https://datahack.analyticsvidhya.com/contest/practice-problem-loan-prediction-iii/) \n",
    "Company wants to automate the loan eligibility process (real time) based on customer detail provided while filling online application form. These details are Gender, Marital Status, Education, Number of Dependents, Income, Loan Amount, Credit History and others. To automate this process, they have given a problem to identify the customers segments, those are eligible for loan amount so that they can specifically target these customers."
   ]
  },
  {
   "cell_type": "code",
   "execution_count": 1,
   "metadata": {
    "collapsed": true
   },
   "outputs": [],
   "source": [
    "import pyspark\n",
    "import pandas as pd\n",
    "import numpy as np\n",
    "import matplotlib.pyplot as plt\n",
    "%matplotlib inline\n",
    "import sklearn"
   ]
  },
  {
   "cell_type": "markdown",
   "metadata": {},
   "source": [
    "Description of data\n",
    "\n",
    "Loan_ID          :   Unique Loan ID\n",
    "\n",
    "Gender           :   Male/ Female \n",
    "\n",
    "Married          :   Applicant married (Y/N)\n",
    "\n",
    "Dependents       :   Number of dependents\n",
    "\n",
    "Education        :   Applicant Education (Graduate/ Under Graduate)\n",
    "\n",
    "Self_Employed    :   Self employed (Y/N)\n",
    "\n",
    "ApplicantIncome  :   Applicant income\n",
    "\n",
    "CoapplicantIncome:  Coapplicant income\n",
    "\n",
    "LoanAmount       :   Loan amount in thousands\n",
    "\n",
    "Loan_Amount_Term :   Term of loan in months\n",
    "\n",
    "Credit_History   :    credit history meets guidelines\n",
    "\n",
    "Property_Area    :Urban/ Semi Urban/ Rural\n",
    "\n",
    "Loan_Status :Loan approved (Y/N)"
   ]
  },
  {
   "cell_type": "code",
   "execution_count": 2,
   "metadata": {},
   "outputs": [
    {
     "data": {
      "text/html": [
       "<div>\n",
       "<style scoped>\n",
       "    .dataframe tbody tr th:only-of-type {\n",
       "        vertical-align: middle;\n",
       "    }\n",
       "\n",
       "    .dataframe tbody tr th {\n",
       "        vertical-align: top;\n",
       "    }\n",
       "\n",
       "    .dataframe thead th {\n",
       "        text-align: right;\n",
       "    }\n",
       "</style>\n",
       "<table border=\"1\" class=\"dataframe\">\n",
       "  <thead>\n",
       "    <tr style=\"text-align: right;\">\n",
       "      <th></th>\n",
       "      <th>Loan_ID</th>\n",
       "      <th>Gender</th>\n",
       "      <th>Married</th>\n",
       "      <th>Dependents</th>\n",
       "      <th>Education</th>\n",
       "      <th>Self_Employed</th>\n",
       "      <th>ApplicantIncome</th>\n",
       "      <th>CoapplicantIncome</th>\n",
       "      <th>LoanAmount</th>\n",
       "      <th>Loan_Amount_Term</th>\n",
       "      <th>Credit_History</th>\n",
       "      <th>Property_Area</th>\n",
       "      <th>Loan_Status</th>\n",
       "    </tr>\n",
       "  </thead>\n",
       "  <tbody>\n",
       "    <tr>\n",
       "      <th>0</th>\n",
       "      <td>LP001002</td>\n",
       "      <td>Male</td>\n",
       "      <td>No</td>\n",
       "      <td>0</td>\n",
       "      <td>Graduate</td>\n",
       "      <td>No</td>\n",
       "      <td>5849</td>\n",
       "      <td>0.0</td>\n",
       "      <td>NaN</td>\n",
       "      <td>360.0</td>\n",
       "      <td>1.0</td>\n",
       "      <td>Urban</td>\n",
       "      <td>Y</td>\n",
       "    </tr>\n",
       "    <tr>\n",
       "      <th>1</th>\n",
       "      <td>LP001003</td>\n",
       "      <td>Male</td>\n",
       "      <td>Yes</td>\n",
       "      <td>1</td>\n",
       "      <td>Graduate</td>\n",
       "      <td>No</td>\n",
       "      <td>4583</td>\n",
       "      <td>1508.0</td>\n",
       "      <td>128.0</td>\n",
       "      <td>360.0</td>\n",
       "      <td>1.0</td>\n",
       "      <td>Rural</td>\n",
       "      <td>N</td>\n",
       "    </tr>\n",
       "    <tr>\n",
       "      <th>2</th>\n",
       "      <td>LP001005</td>\n",
       "      <td>Male</td>\n",
       "      <td>Yes</td>\n",
       "      <td>0</td>\n",
       "      <td>Graduate</td>\n",
       "      <td>Yes</td>\n",
       "      <td>3000</td>\n",
       "      <td>0.0</td>\n",
       "      <td>66.0</td>\n",
       "      <td>360.0</td>\n",
       "      <td>1.0</td>\n",
       "      <td>Urban</td>\n",
       "      <td>Y</td>\n",
       "    </tr>\n",
       "    <tr>\n",
       "      <th>3</th>\n",
       "      <td>LP001006</td>\n",
       "      <td>Male</td>\n",
       "      <td>Yes</td>\n",
       "      <td>0</td>\n",
       "      <td>Not Graduate</td>\n",
       "      <td>No</td>\n",
       "      <td>2583</td>\n",
       "      <td>2358.0</td>\n",
       "      <td>120.0</td>\n",
       "      <td>360.0</td>\n",
       "      <td>1.0</td>\n",
       "      <td>Urban</td>\n",
       "      <td>Y</td>\n",
       "    </tr>\n",
       "    <tr>\n",
       "      <th>4</th>\n",
       "      <td>LP001008</td>\n",
       "      <td>Male</td>\n",
       "      <td>No</td>\n",
       "      <td>0</td>\n",
       "      <td>Graduate</td>\n",
       "      <td>No</td>\n",
       "      <td>6000</td>\n",
       "      <td>0.0</td>\n",
       "      <td>141.0</td>\n",
       "      <td>360.0</td>\n",
       "      <td>1.0</td>\n",
       "      <td>Urban</td>\n",
       "      <td>Y</td>\n",
       "    </tr>\n",
       "  </tbody>\n",
       "</table>\n",
       "</div>"
      ],
      "text/plain": [
       "    Loan_ID Gender Married Dependents     Education Self_Employed  \\\n",
       "0  LP001002   Male      No          0      Graduate            No   \n",
       "1  LP001003   Male     Yes          1      Graduate            No   \n",
       "2  LP001005   Male     Yes          0      Graduate           Yes   \n",
       "3  LP001006   Male     Yes          0  Not Graduate            No   \n",
       "4  LP001008   Male      No          0      Graduate            No   \n",
       "\n",
       "   ApplicantIncome  CoapplicantIncome  LoanAmount  Loan_Amount_Term  \\\n",
       "0             5849                0.0         NaN             360.0   \n",
       "1             4583             1508.0       128.0             360.0   \n",
       "2             3000                0.0        66.0             360.0   \n",
       "3             2583             2358.0       120.0             360.0   \n",
       "4             6000                0.0       141.0             360.0   \n",
       "\n",
       "   Credit_History Property_Area Loan_Status  \n",
       "0             1.0         Urban           Y  \n",
       "1             1.0         Rural           N  \n",
       "2             1.0         Urban           Y  \n",
       "3             1.0         Urban           Y  \n",
       "4             1.0         Urban           Y  "
      ]
     },
     "execution_count": 2,
     "metadata": {},
     "output_type": "execute_result"
    }
   ],
   "source": [
    "#Reading training and test data\n",
    "train=pd.read_csv('train_u6lujuX_CVtuZ9i.csv')\n",
    "train.head()\n"
   ]
  },
  {
   "cell_type": "markdown",
   "metadata": {},
   "source": [
    "Cleanup of data"
   ]
  },
  {
   "cell_type": "code",
   "execution_count": 3,
   "metadata": {
    "collapsed": true
   },
   "outputs": [],
   "source": [
    "def conv(x):\n",
    "    d=dict(x.value_counts())\n",
    "    maximum=max(d,key=d.get)\n",
    "    x.fillna(maximum)\n",
    "    val=int(len(list(x.value_counts())))\n",
    "    name=list(x.unique())\n",
    "    mapped=dict(zip(name, range(val)))\n",
    "    print(mapped)\n",
    "    x.replace(mapped, inplace=True)\n",
    "    \n",
    "#function to convert all missing values in a column to the most frequent value and to convert string categorical values\n",
    "#to numeric values"
   ]
  },
  {
   "cell_type": "code",
   "execution_count": 4,
   "metadata": {},
   "outputs": [
    {
     "name": "stdout",
     "output_type": "stream",
     "text": [
      "For training set\n",
      "{'Male': 0, 'Female': 1}\n",
      "{'No': 0, 'Yes': 1}\n",
      "{'Graduate': 0, 'Not Graduate': 1}\n",
      "{'No': 0, 'Yes': 1}\n",
      "{'Urban': 0, 'Rural': 1, 'Semiurban': 2}\n",
      "{'Y': 0, 'N': 1}\n"
     ]
    }
   ],
   "source": [
    "print(\"For training set\")\n",
    "conv(train['Gender'])\n",
    "conv(train['Married'])\n",
    "conv(train['Education'])\n",
    "conv(train['Self_Employed'])\n",
    "conv(train['Property_Area'])\n",
    "conv(train['Loan_Status'])\n",
    "\n"
   ]
  },
  {
   "cell_type": "code",
   "execution_count": 5,
   "metadata": {},
   "outputs": [
    {
     "data": {
      "text/html": [
       "<div>\n",
       "<style scoped>\n",
       "    .dataframe tbody tr th:only-of-type {\n",
       "        vertical-align: middle;\n",
       "    }\n",
       "\n",
       "    .dataframe tbody tr th {\n",
       "        vertical-align: top;\n",
       "    }\n",
       "\n",
       "    .dataframe thead th {\n",
       "        text-align: right;\n",
       "    }\n",
       "</style>\n",
       "<table border=\"1\" class=\"dataframe\">\n",
       "  <thead>\n",
       "    <tr style=\"text-align: right;\">\n",
       "      <th></th>\n",
       "      <th>Loan_ID</th>\n",
       "      <th>Gender</th>\n",
       "      <th>Married</th>\n",
       "      <th>Dependents</th>\n",
       "      <th>Education</th>\n",
       "      <th>Self_Employed</th>\n",
       "      <th>ApplicantIncome</th>\n",
       "      <th>CoapplicantIncome</th>\n",
       "      <th>LoanAmount</th>\n",
       "      <th>Loan_Amount_Term</th>\n",
       "      <th>Credit_History</th>\n",
       "      <th>Property_Area</th>\n",
       "      <th>Loan_Status</th>\n",
       "    </tr>\n",
       "  </thead>\n",
       "  <tbody>\n",
       "    <tr>\n",
       "      <th>0</th>\n",
       "      <td>LP001002</td>\n",
       "      <td>0.0</td>\n",
       "      <td>0.0</td>\n",
       "      <td>0</td>\n",
       "      <td>0</td>\n",
       "      <td>0.0</td>\n",
       "      <td>5849</td>\n",
       "      <td>0.0</td>\n",
       "      <td>NaN</td>\n",
       "      <td>360.0</td>\n",
       "      <td>1.0</td>\n",
       "      <td>0</td>\n",
       "      <td>0</td>\n",
       "    </tr>\n",
       "    <tr>\n",
       "      <th>1</th>\n",
       "      <td>LP001003</td>\n",
       "      <td>0.0</td>\n",
       "      <td>1.0</td>\n",
       "      <td>1</td>\n",
       "      <td>0</td>\n",
       "      <td>0.0</td>\n",
       "      <td>4583</td>\n",
       "      <td>1508.0</td>\n",
       "      <td>128.0</td>\n",
       "      <td>360.0</td>\n",
       "      <td>1.0</td>\n",
       "      <td>1</td>\n",
       "      <td>1</td>\n",
       "    </tr>\n",
       "    <tr>\n",
       "      <th>2</th>\n",
       "      <td>LP001005</td>\n",
       "      <td>0.0</td>\n",
       "      <td>1.0</td>\n",
       "      <td>0</td>\n",
       "      <td>0</td>\n",
       "      <td>1.0</td>\n",
       "      <td>3000</td>\n",
       "      <td>0.0</td>\n",
       "      <td>66.0</td>\n",
       "      <td>360.0</td>\n",
       "      <td>1.0</td>\n",
       "      <td>0</td>\n",
       "      <td>0</td>\n",
       "    </tr>\n",
       "    <tr>\n",
       "      <th>3</th>\n",
       "      <td>LP001006</td>\n",
       "      <td>0.0</td>\n",
       "      <td>1.0</td>\n",
       "      <td>0</td>\n",
       "      <td>1</td>\n",
       "      <td>0.0</td>\n",
       "      <td>2583</td>\n",
       "      <td>2358.0</td>\n",
       "      <td>120.0</td>\n",
       "      <td>360.0</td>\n",
       "      <td>1.0</td>\n",
       "      <td>0</td>\n",
       "      <td>0</td>\n",
       "    </tr>\n",
       "    <tr>\n",
       "      <th>4</th>\n",
       "      <td>LP001008</td>\n",
       "      <td>0.0</td>\n",
       "      <td>0.0</td>\n",
       "      <td>0</td>\n",
       "      <td>0</td>\n",
       "      <td>0.0</td>\n",
       "      <td>6000</td>\n",
       "      <td>0.0</td>\n",
       "      <td>141.0</td>\n",
       "      <td>360.0</td>\n",
       "      <td>1.0</td>\n",
       "      <td>0</td>\n",
       "      <td>0</td>\n",
       "    </tr>\n",
       "  </tbody>\n",
       "</table>\n",
       "</div>"
      ],
      "text/plain": [
       "    Loan_ID  Gender  Married Dependents  Education  Self_Employed  \\\n",
       "0  LP001002     0.0      0.0          0          0            0.0   \n",
       "1  LP001003     0.0      1.0          1          0            0.0   \n",
       "2  LP001005     0.0      1.0          0          0            1.0   \n",
       "3  LP001006     0.0      1.0          0          1            0.0   \n",
       "4  LP001008     0.0      0.0          0          0            0.0   \n",
       "\n",
       "   ApplicantIncome  CoapplicantIncome  LoanAmount  Loan_Amount_Term  \\\n",
       "0             5849                0.0         NaN             360.0   \n",
       "1             4583             1508.0       128.0             360.0   \n",
       "2             3000                0.0        66.0             360.0   \n",
       "3             2583             2358.0       120.0             360.0   \n",
       "4             6000                0.0       141.0             360.0   \n",
       "\n",
       "   Credit_History  Property_Area  Loan_Status  \n",
       "0             1.0              0            0  \n",
       "1             1.0              1            1  \n",
       "2             1.0              0            0  \n",
       "3             1.0              0            0  \n",
       "4             1.0              0            0  "
      ]
     },
     "execution_count": 5,
     "metadata": {},
     "output_type": "execute_result"
    }
   ],
   "source": [
    "train.head()\n",
    "#After conversion"
   ]
  },
  {
   "cell_type": "code",
   "execution_count": 6,
   "metadata": {
    "collapsed": true
   },
   "outputs": [],
   "source": [
    "#Fill all missing values in numeric columns with frequently occuring value\n",
    "train.Loan_Amount_Term.fillna(360.0, inplace=True)\n",
    "train.Credit_History.fillna(1.0, inplace=True)\n",
    "train.CoapplicantIncome.replace(0.0, np.NaN, inplace=True)\n",
    "train.LoanAmount.replace(0.0, np.NaN, inplace=True)\n",
    "\n",
    "#Convet string value to numeric\n",
    "train.Dependents.replace(\"3+\", 3, inplace=True)\n",
    "\n",
    "#Replace missing values with mean of all other values\n",
    "coappmean=int(train.CoapplicantIncome.mean())\n",
    "loanamt= int(train.LoanAmount.mean())\n",
    "train.CoapplicantIncome.fillna(coappmean, inplace=True)\n",
    "train.LoanAmount.fillna(loanamt, inplace=True)\n",
    "\n",
    "#index is not a useful parameter for classification\n",
    "train.drop(['Loan_ID'],axis=1, inplace=True)\n",
    "\n",
    "\n"
   ]
  },
  {
   "cell_type": "code",
   "execution_count": 7,
   "metadata": {
    "collapsed": true
   },
   "outputs": [],
   "source": [
    "train=train.dropna()\n",
    "\n",
    "#Drop all rows that contain missing values even after clean up"
   ]
  },
  {
   "cell_type": "code",
   "execution_count": 8,
   "metadata": {},
   "outputs": [
    {
     "data": {
      "text/plain": [
       "['0.0,0.0,0,0,0.0,5849,2919.0,146.0,360.0,1.0,0,0',\n",
       " '0.0,1.0,1,0,0.0,4583,1508.0,128.0,360.0,1.0,1,1',\n",
       " '0.0,1.0,0,0,1.0,3000,2919.0,66.0,360.0,1.0,0,0',\n",
       " '0.0,1.0,0,1,0.0,2583,2358.0,120.0,360.0,1.0,0,0',\n",
       " '0.0,0.0,0,0,0.0,6000,2919.0,141.0,360.0,1.0,0,0']"
      ]
     },
     "execution_count": 8,
     "metadata": {},
     "output_type": "execute_result"
    }
   ],
   "source": [
    "train.to_csv(\"train_loan.csv\", header=False, index=False)\n",
    "train=open(\"train_loan.csv\", \"r\")\n",
    "train=[line.rstrip('\\n') for line in train]\n",
    "\n",
    "train[:5]"
   ]
  },
  {
   "cell_type": "markdown",
   "metadata": {},
   "source": [
    "Modeling decision tree and predicting values for test set"
   ]
  },
  {
   "cell_type": "code",
   "execution_count": 9,
   "metadata": {
    "collapsed": true
   },
   "outputs": [],
   "source": [
    "#Create Spark Context\n",
    "\n",
    "sc=pyspark.SparkContext()\n",
    "from pyspark.mllib.regression import LabeledPoint\n"
   ]
  },
  {
   "cell_type": "code",
   "execution_count": 10,
   "metadata": {},
   "outputs": [
    {
     "name": "stdout",
     "output_type": "stream",
     "text": [
      "554\n",
      "390 and 164\n"
     ]
    }
   ],
   "source": [
    "\n",
    "\n",
    "#Create RDD (Resilient Distributed Dataset) for train and test data \n",
    "#Split the csv and create labelled points with label as the value to be predicted (Loan status) for training data\n",
    "\n",
    "train_rdd=sc.parallelize(train)\n",
    "print(train_rdd.count())\n",
    "(trainData, testData) = train_rdd.randomSplit([0.7, 0.3])\n",
    "labeled_points_rdd = trainData.map(lambda row: row.split(',')).map(lambda seq: LabeledPoint(seq[-1],seq[:-2])) \n",
    "test_rdd= testData.map(lambda line: [float(i) for i in line.split(\",\")]).map(lambda seq: LabeledPoint(seq[-1],seq[:-2]))\n",
    "print(\"%d and %d\" %(labeled_points_rdd.count(),test_rdd.count()))\n",
    "\n"
   ]
  },
  {
   "cell_type": "code",
   "execution_count": 11,
   "metadata": {
    "collapsed": true
   },
   "outputs": [],
   "source": [
    "#using Decision Tree from pyspark mllib library \n",
    "from pyspark.mllib.tree import DecisionTree\n",
    "\n",
    "#inputs - training data, num of classes to be predicted - 2, gini impurity is used\n",
    "model = DecisionTree.trainClassifier(labeled_points_rdd, numClasses=2, categoricalFeaturesInfo={}, impurity='gini')"
   ]
  },
  {
   "cell_type": "code",
   "execution_count": 12,
   "metadata": {
    "collapsed": true
   },
   "outputs": [],
   "source": [
    "predictions = model.predict(test_rdd.map(lambda x: x.features))\n",
    "labelsAndPredictions = test_rdd.map(lambda lp: lp.label).zip(predictions)\n",
    "#Predictions are made on the test data"
   ]
  },
  {
   "cell_type": "code",
   "execution_count": 13,
   "metadata": {},
   "outputs": [
    {
     "name": "stdout",
     "output_type": "stream",
     "text": [
      "Area under PR = 0.7694029850746269\n"
     ]
    }
   ],
   "source": [
    "from pyspark.mllib.evaluation import BinaryClassificationMetrics\n",
    "metrics = BinaryClassificationMetrics(labelsAndPredictions)\n",
    "print(\"Area under PR = %s\" % metrics.areaUnderROC)\n"
   ]
  },
  {
   "cell_type": "code",
   "execution_count": 14,
   "metadata": {},
   "outputs": [
    {
     "name": "stdout",
     "output_type": "stream",
     "text": [
      "Confusion matrix \n",
      "(0.0, 0.0)    99\n",
      "(1.0, 0.0)    35\n",
      "(1.0, 1.0)    24\n",
      "(0.0, 1.0)     6\n",
      "dtype: int64\n",
      "\n",
      "Accuracy: 75.000000\n"
     ]
    }
   ],
   "source": [
    "numofyandno=pd.Series([x for x in labelsAndPredictions.collect()])\n",
    "print(\"Confusion matrix \")\n",
    "print(numofyandno.value_counts())\n",
    "count=list(numofyandno.value_counts())\n",
    "\n",
    "print(\"\\nAccuracy: %f\" %(((count[0]+count[2])/sum(count))*100))\n"
   ]
  },
  {
   "cell_type": "code",
   "execution_count": 15,
   "metadata": {},
   "outputs": [
    {
     "data": {
      "text/plain": [
       "([<matplotlib.patches.Wedge at 0x7ff43ca97358>,\n",
       "  <matplotlib.patches.Wedge at 0x7ff43ca977f0>,\n",
       "  <matplotlib.patches.Wedge at 0x7ff43ca97cc0>,\n",
       "  <matplotlib.patches.Wedge at 0x7ff43ca27208>],\n",
       " [Text(-0.35192,1.04219,'True Yes'),\n",
       "  Text(-0.271109,-1.06607,'False Yes'),\n",
       "  Text(0.848638,-0.699867,'True No'),\n",
       "  Text(1.09274,-0.126152,'False No')])"
      ]
     },
     "execution_count": 15,
     "metadata": {},
     "output_type": "execute_result"
    },
    {
     "data": {
      "image/png": "[encoded data removed]",
      "text/plain": [
       "<matplotlib.figure.Figure at 0x7ff43d7f1588>"
      ]
     },
     "metadata": {},
     "output_type": "display_data"
    }
   ],
   "source": [
    "plt.pie(numofyandno.value_counts(), labels=['True Yes', 'False Yes', 'True No', 'False No'])\n",
    "#Predicted Yes and No for test set"
   ]
  },
  {
   "cell_type": "code",
   "execution_count": null,
   "metadata": {
    "collapsed": true
   },
   "outputs": [],
   "source": []
  }
 ],
 "metadata": {
  "kernelspec": {
   "display_name": "Python 3",
   "language": "python",
   "name": "python3"
  },
  "language_info": {
   "codemirror_mode": {
    "name": "ipython",
    "version": 3
   },
   "file_extension": ".py",
   "mimetype": "text/x-python",
   "name": "python",
   "nbconvert_exporter": "python",
   "pygments_lexer": "ipython3",
   "version": "3.6.1"
  }
 },
 "nbformat": 4,
 "nbformat_minor": 2
}
